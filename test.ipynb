{
 "cells": [
  {
   "cell_type": "code",
   "execution_count": null,
   "metadata": {},
   "outputs": [],
   "source": [
    "import re\n",
    "\n",
    "# 假设你的数据存储在一个文本文件中，文件名为 'gpu_logs.txt'\n",
    "file_path = 'gpu_logs.txt'\n",
    "\n",
    "# 初始化一个字典来存储每个GPU的统计信息\n",
    "gpu_stats = {}\n",
    "\n",
    "# 正则表达式模式\n",
    "pattern = r'\\[gpu=(\\d+)\\] .*? #running-req: (\\d+), .*? #queue-req: (\\d+)'\n",
    "\n",
    "# 读取文件并处理每一行\n",
    "with open(file_path, 'r') as file:\n",
    "    for line in file:\n",
    "        match = re.search(pattern, line)\n",
    "        if match:\n",
    "            gpu_id = match.group(1)\n",
    "            running_req = int(match.group(2))\n",
    "            queue_req = int(match.group(3))\n",
    "            \n",
    "            # 初始化GPU统计信息\n",
    "            if gpu_id not in gpu_stats:\n",
    "                gpu_stats[gpu_id] = {'running_req': 0, 'queue_req': 0}\n",
    "            \n",
    "            # 更新统计信息\n",
    "            gpu_stats[gpu_id]['running_req'] += running_req\n",
    "            gpu_stats[gpu_id]['queue_req'] += queue_req\n",
    "\n",
    "# 打印结果\n",
    "for gpu_id, stats in gpu_stats.items():\n",
    "    print(f\"GPU {gpu_id}: #running-req: {stats['running_req']}, #queue-req: {stats['queue_req']}\")"
   ]
  },
  {
   "cell_type": "code",
   "execution_count": null,
   "metadata": {},
   "outputs": [],
   "source": []
  }
 ],
 "metadata": {
  "language_info": {
   "name": "python"
  }
 },
 "nbformat": 4,
 "nbformat_minor": 2
}
